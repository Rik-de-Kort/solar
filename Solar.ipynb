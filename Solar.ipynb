{
 "cells": [
  {
   "cell_type": "markdown",
   "id": "3c2cf46c-2afa-4f51-9383-31df5d1cae8a",
   "metadata": {},
   "source": [
    "Raw data and code from https://drive.google.com/drive/folders/1Jsv34JjNo22NOCd26iBHMP80EPG0xmQE, linked from Casey Handmer's blog post [Solar and batteries for generic use cases](https://caseyhandmer.wordpress.com/2024/11/09/solar-and-batteries-for-generic-use-cases/)"
   ]
  },
  {
   "cell_type": "code",
   "execution_count": null,
   "id": "e041cca5-e147-43a7-abfc-191186ad2a7e",
   "metadata": {},
   "outputs": [],
   "source": [
    "from datetime import datetime\n",
    "from pathlib import Path\n",
    "from random import uniform\n",
    "\n",
    "import altair as alt\n",
    "from numba import njit\n",
    "import pandas as pd\n",
    "from vega_datasets import data\n",
    "\n",
    "alt.data_transformers.enable(\"vegafusion\")\n",
    "\n",
    "folder = Path('./texas')\n",
    "folder.exists()"
   ]
  },
  {
   "cell_type": "code",
   "execution_count": null,
   "id": "44b1ec12-ca1f-4e2b-b82f-3c81fd29a2e8",
   "metadata": {
    "scrolled": true
   },
   "outputs": [],
   "source": [
    "actual = [fp for fp in folder.iterdir() if fp.stem.startswith('Actual')]\n",
    "actual"
   ]
  },
  {
   "cell_type": "code",
   "execution_count": null,
   "id": "a9f92a69-017b-4407-bd81-6a128b7debd7",
   "metadata": {},
   "outputs": [],
   "source": [
    "states = alt.topo_feature(data.us_10m.url, feature='states')\n",
    "\n",
    "usa_states = alt.Chart(states).mark_geoshape(\n",
    "    fill='lightgray',\n",
    "    stroke='white'\n",
    ").project('albersUsa').properties(\n",
    "    width=500,\n",
    "    height=300\n",
    ")\n",
    "usa_states"
   ]
  },
  {
   "cell_type": "code",
   "execution_count": null,
   "id": "6e5dcf8f-46cc-4788-889c-e4bafe9c3db3",
   "metadata": {},
   "outputs": [],
   "source": [
    "def stem_to_lat_lon(s: str) -> tuple[float, float]:\n",
    "    return tuple(float(x) for x in s.split('_')[1:3])\n",
    "\n",
    "df = pd.DataFrame([stem_to_lat_lon(fp.stem) for fp in actual], columns=['lat', 'lon'])\n",
    "\n",
    "usa_states + alt.Chart(df).mark_circle().encode(\n",
    "    longitude='lon:Q',\n",
    "    latitude='lat:Q',\n",
    "    size=alt.value(10),\n",
    ").project(\n",
    "    'albersUsa'\n",
    ").properties(width=500, height=300)"
   ]
  },
  {
   "cell_type": "code",
   "execution_count": null,
   "id": "45c9ea5a-258a-490a-a8e4-4d6095b1a670",
   "metadata": {},
   "outputs": [],
   "source": [
    "raw = pd.read_csv(folder / 'Actual_36.25_-102.95_2006_UPV_84MW_5_Min.csv')\n",
    "raw['local_time'] = raw['LocalTime'].apply(lambda s: datetime.strptime(s, '%m/%d/%y %H:%M'))\n",
    "raw['power'] = raw['Power(MW)']\n",
    "raw = raw.drop(columns=['LocalTime', 'Power(MW)'])\n",
    "raw.head()"
   ]
  },
  {
   "cell_type": "code",
   "execution_count": null,
   "id": "b3a200c7-d670-43cd-b532-693b64c855d4",
   "metadata": {},
   "outputs": [],
   "source": [
    "raw.describe()"
   ]
  },
  {
   "cell_type": "code",
   "execution_count": null,
   "id": "30bcc290-4a98-4c5c-bf8c-4d6707057c39",
   "metadata": {},
   "outputs": [],
   "source": [
    "jan_1st = raw.loc[(raw['local_time'].dt.day == 1) & (raw['local_time'].dt.month == 1)]\n",
    "alt.Chart(jan_1st).mark_line().encode(x='local_time', y='power', tooltip='local_time').properties(width=500)"
   ]
  },
  {
   "cell_type": "code",
   "execution_count": null,
   "id": "12c4baea-9c80-4e5c-8977-ce2918ed82e4",
   "metadata": {},
   "outputs": [],
   "source": [
    "from datetime import date\n",
    "day_avg = raw.groupby(raw['local_time'].dt.time).mean().drop(columns=['local_time']).reset_index()\n",
    "day_avg['local_time'] = day_avg['local_time'].apply(lambda t: datetime.combine(date.today(), t))\n",
    "alt.Chart(day_avg).mark_line().encode(x='local_time', y='power').properties(title=\"Average power generation over a day\")"
   ]
  },
  {
   "cell_type": "code",
   "execution_count": null,
   "id": "56dd0122-1a88-44b0-bf0d-7147ae1a1a94",
   "metadata": {},
   "outputs": [],
   "source": [
    "from datetime import time\n",
    "\n",
    "year_avg = raw.groupby(raw['local_time'].dt.date).mean().drop(columns=['local_time']).reset_index()\n",
    "year_avg['local_time'] = year_avg['local_time'].apply(lambda t: datetime.combine(t, time(12, 0, 0)))\n",
    "alt.Chart(year_avg).mark_line().encode(\n",
    "    x='local_time', y='power'\n",
    ").properties(height=500, width=800)"
   ]
  },
  {
   "cell_type": "code",
   "execution_count": null,
   "id": "e431a6e1-e5af-47a9-a5f4-de025cabe97e",
   "metadata": {},
   "outputs": [],
   "source": [
    "sol = raw.copy()\n",
    "sol['power'] /= 84  # 84 MW array, standardize on 1MW\n",
    "sol['power'].mean(), len(sol)"
   ]
  },
  {
   "cell_type": "code",
   "execution_count": null,
   "id": "b7e70e04-f668-4d15-ad4e-9ce84c0b5f30",
   "metadata": {},
   "outputs": [],
   "source": [
    "sol.head()"
   ]
  },
  {
   "cell_type": "code",
   "execution_count": null,
   "id": "7ab1747f-a3cb-4ee0-9fc4-38ee61b183e0",
   "metadata": {},
   "outputs": [],
   "source": [
    "alt.Chart(sol).mark_line().encode(\n",
    "    x='local_time', y='power'\n",
    ").properties(\n",
    "    width=800, height=600\n",
    ")"
   ]
  },
  {
   "cell_type": "code",
   "execution_count": null,
   "id": "2df1e6b3-a8a7-4709-8a35-af88f4941882",
   "metadata": {},
   "outputs": [],
   "source": [
    "days = raw['local_time'].dt.date.unique()[::10]\n",
    "df = raw.loc[raw['local_time'].dt.date.isin(days)].assign(\n",
    "    day=lambda x: x['local_time'].dt.date.apply(lambda y: datetime.combine(y, time(12, 0, 0))),\n",
    "    time=lambda x: x['local_time'].dt.time.apply(lambda y: datetime.combine(date.today(), y)),\n",
    ")\n",
    "alt.Chart(df.sample(5000)).mark_line().encode(\n",
    "    x=\"time:T\",\n",
    "    y=\"power:Q\",\n",
    "    color=\"day:N\"\n",
    ")"
   ]
  },
  {
   "cell_type": "markdown",
   "id": "641b7a74-6db6-415f-b24e-0bf15ef42f74",
   "metadata": {},
   "source": [
    "Time to implement the `uptime` function. We baseline a 1MW array, then set up numerical array with loads of different sizes and batteries of different sizes. If the battery is empty, load is off. If battery is full, no chargning can occur. We measure everything in 5 minute intervals (according to the data), and assume the battery starts full.\n",
    "Battery state is measure in MWh stored, so in each interval we have to divide by 12.\n",
    "\n",
    "Let's start with a naive variant (no vectorization)"
   ]
  },
  {
   "cell_type": "code",
   "execution_count": null,
   "id": "37c1fdb8-26f8-401e-9974-b51ce72304ff",
   "metadata": {},
   "outputs": [],
   "source": [
    "24*365"
   ]
  },
  {
   "cell_type": "code",
   "execution_count": null,
   "id": "cc95b027-ec2f-4865-b97a-4055c6cc7739",
   "metadata": {},
   "outputs": [],
   "source": [
    "# capacity in MWh, load in MW, sol in MW\n",
    "@njit\n",
    "def uptime(capacity: float, load: float, sol: list[float]) -> tuple[float, float, float, float]:\n",
    "    battery: list[float] = [capacity] + [0.0 for _ in sol] # MWh\n",
    "    utilization: list[float] = [0.0 for _ in sol]  # percentage\n",
    "    t_interval = 24.0 * 365.0 / len(sol)  # hours\n",
    "    for i in range(len(sol)):\n",
    "        sol_interval: float = sol[i]\n",
    "        remaining_load: float = (load - sol_interval)*t_interval\n",
    "        if sol_interval > load:  # More sun than load\n",
    "            utilization[i] = 1  # Can run full load\n",
    "            excess_solar = sol_interval - load\n",
    "            # if battery[i] < capacity:\n",
    "                # battery[i+1] = battery[i] + t_interval*excess_solar\n",
    "            battery[i+1] = min(battery[i] + t_interval*excess_solar, capacity)\n",
    "            \n",
    "        elif battery[i] > remaining_load: # Battery is full enough\n",
    "            utilization[i] = 1\n",
    "            battery[i+1] = battery[i] - remaining_load\n",
    "        else: # Battery fully drained, cannot use all load\n",
    "            utilization[i] = (sol_interval * t_interval + battery[i]) / (load * t_interval)  # equivalent: sol_interval / load + battery / (load * ts)\n",
    "            battery[i+1] = 0\n",
    "\n",
    "    batsum = 0\n",
    "    for b in battery[:-1]:\n",
    "        batsum += 1 if b > 0 else 0\n",
    "        \n",
    "    return (\n",
    "        capacity,\n",
    "        load,\n",
    "        batsum / (len(battery) - 1),\n",
    "        t_interval * sum(utilization) / (24 * 365),\n",
    "    )\n",
    "\n",
    "uptime(2.0, 1.0, sol['power'].tolist())"
   ]
  },
  {
   "cell_type": "code",
   "execution_count": null,
   "id": "74b34e27-a5ca-458f-873d-72d26dc6e9ad",
   "metadata": {},
   "outputs": [],
   "source": [
    "@njit\n",
    "def all_in_system_cost(\n",
    "    solar_cost: float, battery_cost: float, load_cost: float, battery_size: float, array_size: float, sol: list[float]\n",
    ") -> float:\n",
    "    capacity, load, battery_util, total_util = uptime(\n",
    "        capacity=battery_size / array_size,\n",
    "        load=1 / array_size,\n",
    "        sol=sol,\n",
    "    )\n",
    "    return (capacity * battery_cost + solar_cost + load_cost * load) / (load * total_util)\n",
    "\n",
    "all_in_system_cost(200_000, 200_000, 5_000_000, 10, 5, sol['power'].tolist())"
   ]
  },
  {
   "cell_type": "markdown",
   "id": "df71c8cd-24c3-4772-b03f-2a529eb9dfd8",
   "metadata": {},
   "source": [
    "Casey's number here is `1.0523e7`, so I'm going to call that close enough.\n",
    "There appears to be a bug in Casey's implementation. The check if the battery can be charged happens at the start of the interval. If the battery is almost full this will be negative, but then there might be too much solar excess, filling the battery beyond max.  However, if we leave the bug in the program, the number doesn't match quite as closely... So either this bug is not in Casey's program, or my program has another discrepancy."
   ]
  },
  {
   "cell_type": "code",
   "execution_count": null,
   "id": "653db29c-8a9f-483e-ba69-7e2fd45c4514",
   "metadata": {},
   "outputs": [],
   "source": [
    "@njit\n",
    "def cost_and_elasticity(\n",
    "    solar_cost: float, battery_cost: float, load_cost: float, battery_size: float, array_size: float, sol: list[float]\n",
    ") -> tuple[float, float, float, float, float]:\n",
    "    size_to_cost = lambda b, a: all_in_system_cost(\n",
    "        solar_cost, battery_cost, load_cost, b, a, sol\n",
    "    )\n",
    "    cost = size_to_cost(battery_size, array_size)\n",
    "    cost_battery = size_to_cost(1.01*battery_size+0.01, array_size)\n",
    "    cost_array = size_to_cost(battery_size, 1.01*array_size+0.01)\n",
    "    return cost, cost_battery, cost_array, (cost - cost_battery) / cost, (cost - cost_array) / cost\n",
    "\n",
    "cost_and_elasticity(200e3, 200e3, 5e6, 10, 5, sol['power'].tolist())"
   ]
  },
  {
   "cell_type": "markdown",
   "id": "c3ba5b57-a726-42c6-ba71-32256a1d749a",
   "metadata": {},
   "source": [
    "I'm running the gradient descent for more steps with a much smaller amplitude since this code appears to be ~1000 times faster than the equivalent Mathematica. This takes care of some numerical infelicities."
   ]
  },
  {
   "cell_type": "code",
   "execution_count": null,
   "id": "e5bba808-1fbc-483e-a474-a857d1d4880b",
   "metadata": {},
   "outputs": [],
   "source": [
    "@njit\n",
    "def find_minimum_system_cost(\n",
    "    solar_cost: float,\n",
    "    battery_cost: float,\n",
    "    load_cost: float,\n",
    "    sol: list[float],\n",
    ") -> tuple[tuple[float, float, float], tuple[float, float, 1], tuple[float, float, float], tuple[float, float, float], any]:\n",
    "    bi = min(10, 10 * load_cost / 5e6)\n",
    "    ai = min(10, 10 * load_cost / 5e6)\n",
    "    amplitude = 10 + 70 * (load_cost / 5e6)\n",
    "    if 7e5 < load_cost < 13e5: amplitude *= 3\n",
    "    if 80e6 < load_cost: amplitude *= 0.5\n",
    "\n",
    "    cost_min = 10**10\n",
    "    bi_min = bi\n",
    "    ai_min = ai\n",
    "    for i in range(100):\n",
    "        # There was a bug here: cost_and_elasticity were getting called with wrong argument order\n",
    "        # Changing them around doesn't affect the results since we always passed in the same number here\n",
    "        cost, cost_bat, cost_arr, dcost_bat, dcost_arr = cost_and_elasticity(solar_cost, battery_cost, load_cost, bi, ai, sol)\n",
    "        if cost < cost_min:\n",
    "            ai_min, bi_min, cost_min = ai, bi, cost\n",
    "        # if True: print((cost, cost_bat, cost_arr, dcost_bat, dcost_arr), bi, ai)\n",
    "        bi = max(0, bi + amplitude * uniform(0.1, 1) * dcost_bat)\n",
    "        ai = max(0.01, ai + amplitude * uniform(0.1, 1) * dcost_arr)\n",
    "\n",
    "    ut = uptime(bi_min / ai_min, 1 / ai_min, sol)\n",
    "    \n",
    "    array_cost = solar_cost * ai_min\n",
    "    storage_cost = battery_cost * bi_min\n",
    "    total_cost = array_cost + storage_cost + load_cost\n",
    "    \n",
    "    return (\n",
    "        (solar_cost, battery_cost, load_cost),\n",
    "        (ai_min, bi_min, 1),\n",
    "        (array_cost, storage_cost, load_cost),\n",
    "        (array_cost + storage_cost, total_cost, total_cost / ut[-1]),\n",
    "        ut\n",
    "    )\n",
    "\n",
    "find_minimum_system_cost(2e5, 2e5, 1e5, sol['power'].tolist())"
   ]
  },
  {
   "cell_type": "markdown",
   "id": "525b0dae-cc8a-40f6-b33b-13b91b4eb123",
   "metadata": {},
   "source": [
    "That's really not that far from Casey's outcomes. I'm going to chalk the difference up to order of operations and floating point shenanigans."
   ]
  },
  {
   "cell_type": "code",
   "execution_count": null,
   "id": "59b66d11-f660-4bc8-ab5d-de0716333791",
   "metadata": {},
   "outputs": [],
   "source": [
    "from tqdm import tqdm\n",
    "results_raw = [\n",
    "    find_minimum_system_cost(200e3, 200e3, 10e3*10**(0.1*i), sol['power'].tolist())\n",
    "    for i in tqdm(range(40))\n",
    "]"
   ]
  },
  {
   "cell_type": "markdown",
   "id": "9a209dd0-9ab9-4dd8-a518-e20ffd461ed2",
   "metadata": {},
   "source": [
    "I'm not sure what's taking Casey's implementation so long? Let's call this a minute, then it's a factor 100? Factor 1000 if I enable compilation with `numba`.\n"
   ]
  },
  {
   "cell_type": "code",
   "execution_count": null,
   "id": "4ed26835-d243-4c1d-9cd7-9d1aec8b57db",
   "metadata": {
    "scrolled": true
   },
   "outputs": [],
   "source": [
    "results_raw"
   ]
  },
  {
   "cell_type": "code",
   "execution_count": null,
   "id": "d1cbfd4b-b7d2-4771-b9cd-02e885d5d890",
   "metadata": {},
   "outputs": [],
   "source": [
    "labels = [\n",
    "    'solar cost ($/MW)', 'battery cost ($/MW)', 'load cost ($/MW)',\n",
    "    'array size (MW)', 'battery size (MWh)', 'load size (1 MW by definition)',\n",
    "    'array cost ($)', 'battery cost ($)', 'load cost ($, normalized to 1 MW)',\n",
    "    'total power system cost ($)', 'total system cost ($)', 'total cost per utilization ($)',\n",
    "    'battery size relative to 1 MW array', 'load size relative to 1 MW array', 'annual battery utilization', 'annual load utilization'\n",
    "]\n",
    "\n",
    "results = pd.DataFrame([dict(zip(labels, (x for tup in r for x in tup))) for r in results_raw])\n",
    "results.head()"
   ]
  },
  {
   "cell_type": "code",
   "execution_count": null,
   "id": "496b3316-37c6-4c60-80e8-340a99644ba7",
   "metadata": {},
   "outputs": [],
   "source": [
    "subsystems = results.melt(id_vars='annual load utilization', value_vars=[\n",
    "    'array cost ($)', 'battery cost ($)', 'load cost ($/MW)', 'total power system cost ($)', 'total system cost ($)', \n",
    "])\n",
    "subsystems = subsystems.loc[subsystems['value'] <= 2e7]\n",
    "alt.Chart(subsystems).mark_line().encode(\n",
    "    x='annual load utilization:Q',\n",
    "    y=alt.Y('value:Q', scale=alt.Scale(domain=[0, 2e7], clamp=True)),\n",
    "    color='variable:N',\n",
    "    tooltip='variable:N',\n",
    ").properties(width=800, height=600)"
   ]
  },
  {
   "cell_type": "code",
   "execution_count": null,
   "id": "1172139e-4b7d-445e-b673-c44b3037e963",
   "metadata": {},
   "outputs": [],
   "source": [
    "subsystems = results.melt(id_vars=\"load cost ($/MW)\", value_vars=[\n",
    "    'array cost ($)', 'battery cost ($)', 'load cost ($/MW)', 'total power system cost ($)', 'total system cost ($)', \n",
    "    'total cost per utilization ($)',\n",
    "])\n",
    "subsystems = subsystems.loc[subsystems['value'] > 0]\n",
    "\n",
    "alt.Chart(subsystems).mark_line().encode(\n",
    "    x=alt.X('load cost ($/MW):Q', scale=alt.Scale(type='log', domain=[0.5e4, 1e8])),\n",
    "    y=alt.Y('value:Q', scale=alt.Scale(type='log', domain=[0.5e3, 1e8])),\n",
    "    color='variable:N',\n",
    "    tooltip=('variable:N','value:Q'),\n",
    ").properties(width=800, height=600)"
   ]
  },
  {
   "cell_type": "code",
   "execution_count": null,
   "id": "e775b009-e482-4a7f-811a-1b69d33c08d1",
   "metadata": {},
   "outputs": [],
   "source": [
    "alt.Chart(results).mark_line().encode(\n",
    "    x=alt.X('load cost ($/MW)', scale=alt.Scale(type='log')),\n",
    "    y='annual load utilization'\n",
    ").properties(width=800, height=600)"
   ]
  },
  {
   "cell_type": "code",
   "execution_count": null,
   "id": "7d620bf5-5106-411a-bad6-3eab6e5e92c5",
   "metadata": {},
   "outputs": [],
   "source": [
    "results.describe()"
   ]
  },
  {
   "cell_type": "code",
   "execution_count": null,
   "id": "4206a506-8dde-48b0-8ff3-93d136f6e43d",
   "metadata": {},
   "outputs": [],
   "source": [
    "for col in ['array cost ($)', 'battery cost ($)', 'total power system cost ($)']:\n",
    "    results[col.replace('$', '$/MWh')] = results[col] / (10 * 24 * 365 * results['annual load utilization'])\n",
    "\n",
    "import numpy as np\n",
    "min_util = results.loc[results['annual load utilization'].idxmin()]\n",
    "uvals = np.arange(0.01, min_util['annual load utilization'], 0.001)\n",
    "underutilized_solar = pd.Series(uvals, name='annual load utilization').to_frame()\n",
    "underutilized_solar['variable'] = 'underutilized solar'\n",
    "underutilized_solar['value'] = min_util['array cost ($)'] / (10 * 24 * 365 * uvals)\n",
    "\n",
    "subsystems = results.melt(id_vars='annual load utilization', value_vars=[\n",
    "    'array cost ($/MWh)', 'battery cost ($/MWh)', 'total power system cost ($/MWh)', \n",
    "])\n",
    "subsystems = pd.concat([subsystems, underutilized_solar])\n",
    "alt.Chart(subsystems).mark_line().encode(\n",
    "    x='annual load utilization:Q',\n",
    "    y=alt.Y('value:Q', scale=alt.Scale(domain=[0, 80])),\n",
    "    color='variable:N',\n",
    ").properties(width=800, height=600).interactive()"
   ]
  },
  {
   "cell_type": "code",
   "execution_count": null,
   "id": "3e9f5266-627e-4f03-900c-54a794ff43ca",
   "metadata": {},
   "outputs": [],
   "source": []
  }
 ],
 "metadata": {
  "kernelspec": {
   "display_name": "Python 3 (ipykernel)",
   "language": "python",
   "name": "python3"
  },
  "language_info": {
   "codemirror_mode": {
    "name": "ipython",
    "version": 3
   },
   "file_extension": ".py",
   "mimetype": "text/x-python",
   "name": "python",
   "nbconvert_exporter": "python",
   "pygments_lexer": "ipython3",
   "version": "3.13.2"
  }
 },
 "nbformat": 4,
 "nbformat_minor": 5
}
